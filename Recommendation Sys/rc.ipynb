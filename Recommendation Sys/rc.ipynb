{
 "cells": [
  {
   "cell_type": "code",
   "execution_count": 1,
   "metadata": {},
   "outputs": [],
   "source": [
    "# !pip install pandas pyarrow\n"
   ]
  },
  {
   "cell_type": "code",
   "execution_count": 2,
   "metadata": {},
   "outputs": [],
   "source": [
    "\n",
    "\n",
    "# Import necessary libraries\n",
    "import pandas as pd\n",
    "import numpy as np\n",
    "import joblib  # For saving the model\n",
    "\n",
    "\n"
   ]
  },
  {
   "cell_type": "code",
   "execution_count": 3,
   "metadata": {},
   "outputs": [
    {
     "name": "stdout",
     "output_type": "stream",
     "text": [
      "(31788324, 3)\n"
     ]
    },
    {
     "data": {
      "text/html": [
       "<div>\n",
       "<style scoped>\n",
       "    .dataframe tbody tr th:only-of-type {\n",
       "        vertical-align: middle;\n",
       "    }\n",
       "\n",
       "    .dataframe tbody tr th {\n",
       "        vertical-align: top;\n",
       "    }\n",
       "\n",
       "    .dataframe thead th {\n",
       "        text-align: right;\n",
       "    }\n",
       "</style>\n",
       "<table border=\"1\" class=\"dataframe\">\n",
       "  <thead>\n",
       "    <tr style=\"text-align: right;\">\n",
       "      <th></th>\n",
       "      <th>t_dat</th>\n",
       "      <th>customer_id</th>\n",
       "      <th>article_id</th>\n",
       "    </tr>\n",
       "  </thead>\n",
       "  <tbody>\n",
       "    <tr>\n",
       "      <th>0</th>\n",
       "      <td>2018-09-20</td>\n",
       "      <td>18439897732908966680</td>\n",
       "      <td>663713001</td>\n",
       "    </tr>\n",
       "    <tr>\n",
       "      <th>1</th>\n",
       "      <td>2018-09-20</td>\n",
       "      <td>18439897732908966680</td>\n",
       "      <td>541518023</td>\n",
       "    </tr>\n",
       "    <tr>\n",
       "      <th>2</th>\n",
       "      <td>2018-09-20</td>\n",
       "      <td>10112112306570742978</td>\n",
       "      <td>505221004</td>\n",
       "    </tr>\n",
       "    <tr>\n",
       "      <th>3</th>\n",
       "      <td>2018-09-20</td>\n",
       "      <td>10112112306570742978</td>\n",
       "      <td>685687003</td>\n",
       "    </tr>\n",
       "    <tr>\n",
       "      <th>4</th>\n",
       "      <td>2018-09-20</td>\n",
       "      <td>10112112306570742978</td>\n",
       "      <td>685687004</td>\n",
       "    </tr>\n",
       "  </tbody>\n",
       "</table>\n",
       "</div>"
      ],
      "text/plain": [
       "       t_dat           customer_id  article_id\n",
       "0 2018-09-20  18439897732908966680   663713001\n",
       "1 2018-09-20  18439897732908966680   541518023\n",
       "2 2018-09-20  10112112306570742978   505221004\n",
       "3 2018-09-20  10112112306570742978   685687003\n",
       "4 2018-09-20  10112112306570742978   685687004"
      ]
     },
     "execution_count": 3,
     "metadata": {},
     "output_type": "execute_result"
    }
   ],
   "source": [
    "# Load Transactions, Reduce Memory\n",
    "train = pd.read_csv(r'C:\\Users\\Shweta\\recommendation-system\\venv\\transactions_train.csv')\n",
    "train['customer_id'] = train['customer_id'].str[-16:].apply(int, base=16)\n",
    "train['article_id'] = train['article_id'].astype('int32')\n",
    "train['t_dat'] = pd.to_datetime(train['t_dat'])\n",
    "train = train[['t_dat', 'customer_id', 'article_id']]\n",
    "train.to_parquet('train.pqt', index=False)\n",
    "print(train.shape)\n",
    "train.head()"
   ]
  },
  {
   "cell_type": "code",
   "execution_count": 4,
   "metadata": {},
   "outputs": [],
   "source": [
    "# Find Each Customer's Last Week of Purchases\n",
    "tmp = train.groupby('customer_id')['t_dat'].idxmax()\n",
    "last_purchases = train.loc[tmp].reset_index(drop=True)\n",
    "last_purchases = last_purchases[['customer_id', 'article_id']]\n",
    "last_purchases.columns = ['customer_id', 'last_article_id']"
   ]
  },
  {
   "cell_type": "code",
   "execution_count": 5,
   "metadata": {},
   "outputs": [],
   "source": [
    "# Load Pairs and Recommend Items Purchased Together\n",
    "last_purchases = last_purchases.copy()\n",
    "pairs = np.load(r'C:\\Users\\Shweta\\recommendation-system\\venv\\pairs_cudf.npy', allow_pickle=True).item()\n",
    "last_purchases['recommended_article_id'] = last_purchases['last_article_id'].map(pairs)"
   ]
  },
  {
   "cell_type": "code",
   "execution_count": 6,
   "metadata": {},
   "outputs": [],
   "source": [
    "# Keep only non-null recommendations\n",
    "recommendations = last_purchases[['customer_id', 'recommended_article_id']].dropna()\n",
    "recommendations = recommendations.drop_duplicates(['customer_id', 'recommended_article_id'])\n",
    "recommendations = recommendations.rename({'recommended_article_id': 'article_id'}, axis=1)"
   ]
  },
  {
   "cell_type": "code",
   "execution_count": 7,
   "metadata": {},
   "outputs": [],
   "source": [
    "# Convert article_id to string\n",
    "recommendations['article_id'] = ' 0' + recommendations['article_id'].astype('str')\n",
    "\n",
    "# Perform the groupby operation\n",
    "grouped = recommendations.groupby('customer_id').agg({'article_id': lambda x: ' '.join(x)}).reset_index()\n",
    "\n",
    "# Select necessary columns\n",
    "grouped = grouped[['customer_id', 'article_id']]\n",
    "grouped.columns = ['customer_id', 'prediction']"
   ]
  },
  {
   "cell_type": "code",
   "execution_count": 9,
   "metadata": {},
   "outputs": [
    {
     "name": "stdout",
     "output_type": "stream",
     "text": [
      "Last week's top 10 popular items:\n",
      " 0924243001  0924243002  0918522001  0923758001  0866731001  0909370001  0751471001  0915529003  0915529005  0448509014\n"
     ]
    }
   ],
   "source": [
    "# Recommend Last Week's Most Popular Items\n",
    "train = pd.read_parquet('train.pqt')\n",
    "train['t_dat'] = pd.to_datetime(train['t_dat'])\n",
    "train = train.loc[train['t_dat'] >= pd.to_datetime('2020-09-16')]\n",
    "top10_list = [' 0' + str(article_id) for article_id in train['article_id'].value_counts().index[:10]]\n",
    "top10_str = ' '.join(top10_list)\n",
    "print(\"Last week's top 10 popular items:\")\n",
    "print(top10_str)"
   ]
  },
  {
   "cell_type": "code",
   "execution_count": 10,
   "metadata": {},
   "outputs": [],
   "source": [
    "# Ensure unique recommendations for each customer\n",
    "def unique_recommendations(row):\n",
    "    # Combine customer-specific recommendations with top 10 popular items\n",
    "    recs = set(row['prediction'].split())\n",
    "    popular_recs = set(top10_str.split())\n",
    "    combined_recs = list(recs.union(popular_recs))[:10]\n",
    "    return ' '.join(combined_recs)\n",
    "\n",
    "grouped['prediction'] = grouped.apply(unique_recommendations, axis=1)"
   ]
  },
  {
   "cell_type": "code",
   "execution_count": 11,
   "metadata": {},
   "outputs": [
    {
     "data": {
      "text/html": [
       "<div>\n",
       "<style scoped>\n",
       "    .dataframe tbody tr th:only-of-type {\n",
       "        vertical-align: middle;\n",
       "    }\n",
       "\n",
       "    .dataframe tbody tr th {\n",
       "        vertical-align: top;\n",
       "    }\n",
       "\n",
       "    .dataframe thead th {\n",
       "        text-align: right;\n",
       "    }\n",
       "</style>\n",
       "<table border=\"1\" class=\"dataframe\">\n",
       "  <thead>\n",
       "    <tr style=\"text-align: right;\">\n",
       "      <th></th>\n",
       "      <th>customer_id</th>\n",
       "      <th>prediction</th>\n",
       "    </tr>\n",
       "  </thead>\n",
       "  <tbody>\n",
       "    <tr>\n",
       "      <th>0</th>\n",
       "      <td>00000dbacae5abe5e23885899a1fa44253a17956c6d1c3...</td>\n",
       "      <td>0924243002 0924243001 0751471001 0923758001 09...</td>\n",
       "    </tr>\n",
       "    <tr>\n",
       "      <th>1</th>\n",
       "      <td>0000423b00ade91418cceaf3b26c6af3dd342b51fd051e...</td>\n",
       "      <td>0924243002 0924243001 0706016001.0 0751471001 ...</td>\n",
       "    </tr>\n",
       "    <tr>\n",
       "      <th>2</th>\n",
       "      <td>000058a12d5b43e67d225668fa1f8d618c13dc232df0ca...</td>\n",
       "      <td>0924243002 0924243001 0751471001 0923758001 09...</td>\n",
       "    </tr>\n",
       "    <tr>\n",
       "      <th>3</th>\n",
       "      <td>00005ca1c9ed5f5146b52ac8639a40ca9d57aeff4d1bd2...</td>\n",
       "      <td>0924243002 0924243001 0751471001 0923758001 09...</td>\n",
       "    </tr>\n",
       "    <tr>\n",
       "      <th>4</th>\n",
       "      <td>00006413d8573cd20ed7128e53b7b13819fe5cfc2d801f...</td>\n",
       "      <td>0924243002 0924243001 0751471001 0448509014 09...</td>\n",
       "    </tr>\n",
       "  </tbody>\n",
       "</table>\n",
       "</div>"
      ],
      "text/plain": [
       "                                         customer_id  \\\n",
       "0  00000dbacae5abe5e23885899a1fa44253a17956c6d1c3...   \n",
       "1  0000423b00ade91418cceaf3b26c6af3dd342b51fd051e...   \n",
       "2  000058a12d5b43e67d225668fa1f8d618c13dc232df0ca...   \n",
       "3  00005ca1c9ed5f5146b52ac8639a40ca9d57aeff4d1bd2...   \n",
       "4  00006413d8573cd20ed7128e53b7b13819fe5cfc2d801f...   \n",
       "\n",
       "                                          prediction  \n",
       "0  0924243002 0924243001 0751471001 0923758001 09...  \n",
       "1  0924243002 0924243001 0706016001.0 0751471001 ...  \n",
       "2  0924243002 0924243001 0751471001 0923758001 09...  \n",
       "3  0924243002 0924243001 0751471001 0923758001 09...  \n",
       "4  0924243002 0924243001 0751471001 0448509014 09...  "
      ]
     },
     "execution_count": 11,
     "metadata": {},
     "output_type": "execute_result"
    }
   ],
   "source": [
    "# Write Submission CSV\n",
    "sub = pd.read_csv(r'C:\\Users\\Shweta\\recommendation-system\\venv\\sample_submission.csv')\n",
    "sub = sub[['customer_id']]\n",
    "sub['customer_id_2'] = sub['customer_id'].str[-16:].apply(int, base=16)\n",
    "sub = sub.merge(grouped.rename({'customer_id': 'customer_id_2'}, axis=1), on='customer_id_2', how='left').fillna('')\n",
    "del sub['customer_id_2']\n",
    "sub['prediction'] = sub['prediction'].str.strip()\n",
    "sub['prediction'] = sub['prediction'].str[:131]\n",
    "sub.to_csv('submission.csv', index=False)\n",
    "sub.head()"
   ]
  },
  {
   "cell_type": "code",
   "execution_count": 12,
   "metadata": {},
   "outputs": [
    {
     "name": "stdout",
     "output_type": "stream",
     "text": [
      "Model saved as recommendations_model.pkl\n"
     ]
    }
   ],
   "source": [
    "\n",
    "# Save the model (recommendations DataFrame)\n",
    "joblib.dump(grouped, 'recommendations_model.pkl')\n",
    "print(\"Model saved as recommendations_model.pkl\")\n"
   ]
  },
  {
   "cell_type": "code",
   "execution_count": null,
   "metadata": {},
   "outputs": [],
   "source": []
  }
 ],
 "metadata": {
  "kernelspec": {
   "display_name": "venv",
   "language": "python",
   "name": "python3"
  },
  "language_info": {
   "codemirror_mode": {
    "name": "ipython",
    "version": 3
   },
   "file_extension": ".py",
   "mimetype": "text/x-python",
   "name": "python",
   "nbconvert_exporter": "python",
   "pygments_lexer": "ipython3",
   "version": "3.10.9"
  }
 },
 "nbformat": 4,
 "nbformat_minor": 2
}
